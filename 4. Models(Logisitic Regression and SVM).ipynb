{
 "cells": [
  {
   "cell_type": "code",
   "execution_count": 2,
   "id": "da971245",
   "metadata": {},
   "outputs": [],
   "source": [
    "import pandas as pd\n",
    "import numpy as np\n",
    "from sklearn.model_selection import train_test_split\n",
    "from sklearn.metrics import log_loss\n",
    "from sklearn.metrics import confusion_matrix\n",
    "import matplotlib.pyplot as plt\n",
    "from  sklearn.linear_model import SGDClassifier\n",
    "from sklearn.calibration import CalibratedClassifierCV\n",
    "\n",
    "import seaborn as sns\n",
    "\n"
   ]
  },
  {
   "cell_type": "code",
   "execution_count": 3,
   "id": "4751af8e",
   "metadata": {},
   "outputs": [
    {
     "data": {
      "text/html": [
       "<div>\n",
       "<style scoped>\n",
       "    .dataframe tbody tr th:only-of-type {\n",
       "        vertical-align: middle;\n",
       "    }\n",
       "\n",
       "    .dataframe tbody tr th {\n",
       "        vertical-align: top;\n",
       "    }\n",
       "\n",
       "    .dataframe thead th {\n",
       "        text-align: right;\n",
       "    }\n",
       "</style>\n",
       "<table border=\"1\" class=\"dataframe\">\n",
       "  <thead>\n",
       "    <tr style=\"text-align: right;\">\n",
       "      <th></th>\n",
       "      <th>id</th>\n",
       "      <th>qid1</th>\n",
       "      <th>qid2</th>\n",
       "      <th>question1</th>\n",
       "      <th>question2</th>\n",
       "      <th>is_duplicate</th>\n",
       "    </tr>\n",
       "  </thead>\n",
       "  <tbody>\n",
       "    <tr>\n",
       "      <th>0</th>\n",
       "      <td>0</td>\n",
       "      <td>1</td>\n",
       "      <td>2</td>\n",
       "      <td>What is the step by step guide to invest in sh...</td>\n",
       "      <td>What is the step by step guide to invest in sh...</td>\n",
       "      <td>0</td>\n",
       "    </tr>\n",
       "    <tr>\n",
       "      <th>1</th>\n",
       "      <td>1</td>\n",
       "      <td>3</td>\n",
       "      <td>4</td>\n",
       "      <td>What is the story of Kohinoor (Koh-i-Noor) Dia...</td>\n",
       "      <td>What would happen if the Indian government sto...</td>\n",
       "      <td>0</td>\n",
       "    </tr>\n",
       "    <tr>\n",
       "      <th>2</th>\n",
       "      <td>2</td>\n",
       "      <td>5</td>\n",
       "      <td>6</td>\n",
       "      <td>How can I increase the speed of my internet co...</td>\n",
       "      <td>How can Internet speed be increased by hacking...</td>\n",
       "      <td>0</td>\n",
       "    </tr>\n",
       "    <tr>\n",
       "      <th>3</th>\n",
       "      <td>3</td>\n",
       "      <td>7</td>\n",
       "      <td>8</td>\n",
       "      <td>Why am I mentally very lonely? How can I solve...</td>\n",
       "      <td>Find the remainder when [math]23^{24}[/math] i...</td>\n",
       "      <td>0</td>\n",
       "    </tr>\n",
       "    <tr>\n",
       "      <th>4</th>\n",
       "      <td>4</td>\n",
       "      <td>9</td>\n",
       "      <td>10</td>\n",
       "      <td>Which one dissolve in water quikly sugar, salt...</td>\n",
       "      <td>Which fish would survive in salt water?</td>\n",
       "      <td>0</td>\n",
       "    </tr>\n",
       "  </tbody>\n",
       "</table>\n",
       "</div>"
      ],
      "text/plain": [
       "   id  qid1  qid2                                          question1  \\\n",
       "0   0     1     2  What is the step by step guide to invest in sh...   \n",
       "1   1     3     4  What is the story of Kohinoor (Koh-i-Noor) Dia...   \n",
       "2   2     5     6  How can I increase the speed of my internet co...   \n",
       "3   3     7     8  Why am I mentally very lonely? How can I solve...   \n",
       "4   4     9    10  Which one dissolve in water quikly sugar, salt...   \n",
       "\n",
       "                                           question2  is_duplicate  \n",
       "0  What is the step by step guide to invest in sh...             0  \n",
       "1  What would happen if the Indian government sto...             0  \n",
       "2  How can Internet speed be increased by hacking...             0  \n",
       "3  Find the remainder when [math]23^{24}[/math] i...             0  \n",
       "4            Which fish would survive in salt water?             0  "
      ]
     },
     "execution_count": 3,
     "metadata": {},
     "output_type": "execute_result"
    }
   ],
   "source": [
    "df=pd.read_csv('final2.csv')\n",
    "df.head()\n",
    "df2=pd.read_csv('train.csv')\n",
    "df2.head()"
   ]
  },
  {
   "cell_type": "code",
   "execution_count": 4,
   "id": "1e329888",
   "metadata": {},
   "outputs": [],
   "source": [
    "df['is_duplicate']=df2['is_duplicate']"
   ]
  },
  {
   "cell_type": "code",
   "execution_count": 5,
   "id": "00b52688",
   "metadata": {},
   "outputs": [
    {
     "data": {
      "text/plain": [
       "0    0\n",
       "1    0\n",
       "2    0\n",
       "3    0\n",
       "4    0\n",
       "Name: is_duplicate, dtype: int64"
      ]
     },
     "execution_count": 5,
     "metadata": {},
     "output_type": "execute_result"
    }
   ],
   "source": [
    "df['is_duplicate'].head()\n"
   ]
  },
  {
   "cell_type": "code",
   "execution_count": 6,
   "id": "003e48e2",
   "metadata": {},
   "outputs": [
    {
     "data": {
      "text/plain": [
       "Unnamed: 0.1    149263\n",
       "Unnamed: 0      149263\n",
       "id              149263\n",
       "freq_qid1       149263\n",
       "freq_qid2       149263\n",
       "                 ...  \n",
       "296_y           149263\n",
       "297_y           149263\n",
       "298_y           149263\n",
       "299_y           149263\n",
       "is_duplicate    149263\n",
       "Length: 630, dtype: int64"
      ]
     },
     "execution_count": 6,
     "metadata": {},
     "output_type": "execute_result"
    }
   ],
   "source": [
    "df[df['is_duplicate']==1].count()"
   ]
  },
  {
   "cell_type": "code",
   "execution_count": 7,
   "id": "21bc33c4",
   "metadata": {},
   "outputs": [
    {
     "data": {
      "text/plain": [
       "is_duplicate\n",
       "0    255027\n",
       "1    149263\n",
       "Name: id, dtype: int64"
      ]
     },
     "execution_count": 7,
     "metadata": {},
     "output_type": "execute_result"
    }
   ],
   "source": [
    "df.groupby('is_duplicate')['id'].count()"
   ]
  },
  {
   "cell_type": "code",
   "execution_count": 8,
   "id": "d0476b5c",
   "metadata": {},
   "outputs": [
    {
     "data": {
      "text/html": [
       "<div>\n",
       "<style scoped>\n",
       "    .dataframe tbody tr th:only-of-type {\n",
       "        vertical-align: middle;\n",
       "    }\n",
       "\n",
       "    .dataframe tbody tr th {\n",
       "        vertical-align: top;\n",
       "    }\n",
       "\n",
       "    .dataframe thead th {\n",
       "        text-align: right;\n",
       "    }\n",
       "</style>\n",
       "<table border=\"1\" class=\"dataframe\">\n",
       "  <thead>\n",
       "    <tr style=\"text-align: right;\">\n",
       "      <th></th>\n",
       "      <th>Unnamed: 0.1</th>\n",
       "      <th>Unnamed: 0</th>\n",
       "      <th>id</th>\n",
       "      <th>freq_qid1</th>\n",
       "      <th>freq_qid2</th>\n",
       "      <th>q1len</th>\n",
       "      <th>q2len</th>\n",
       "      <th>q1_n_words</th>\n",
       "      <th>q2_n_words</th>\n",
       "      <th>word_Common</th>\n",
       "      <th>...</th>\n",
       "      <th>291_y</th>\n",
       "      <th>292_y</th>\n",
       "      <th>293_y</th>\n",
       "      <th>294_y</th>\n",
       "      <th>295_y</th>\n",
       "      <th>296_y</th>\n",
       "      <th>297_y</th>\n",
       "      <th>298_y</th>\n",
       "      <th>299_y</th>\n",
       "      <th>is_duplicate</th>\n",
       "    </tr>\n",
       "  </thead>\n",
       "  <tbody>\n",
       "    <tr>\n",
       "      <th>0</th>\n",
       "      <td>0</td>\n",
       "      <td>0</td>\n",
       "      <td>0</td>\n",
       "      <td>1</td>\n",
       "      <td>1</td>\n",
       "      <td>66.0</td>\n",
       "      <td>57.0</td>\n",
       "      <td>14</td>\n",
       "      <td>12</td>\n",
       "      <td>10</td>\n",
       "      <td>...</td>\n",
       "      <td>7.231024</td>\n",
       "      <td>1.531186</td>\n",
       "      <td>-7.528823</td>\n",
       "      <td>0.473802</td>\n",
       "      <td>-11.864658</td>\n",
       "      <td>-11.293788</td>\n",
       "      <td>1.866265</td>\n",
       "      <td>3.616046</td>\n",
       "      <td>11.971096</td>\n",
       "      <td>0</td>\n",
       "    </tr>\n",
       "    <tr>\n",
       "      <th>1</th>\n",
       "      <td>1</td>\n",
       "      <td>1</td>\n",
       "      <td>1</td>\n",
       "      <td>4</td>\n",
       "      <td>1</td>\n",
       "      <td>51.0</td>\n",
       "      <td>88.0</td>\n",
       "      <td>8</td>\n",
       "      <td>13</td>\n",
       "      <td>4</td>\n",
       "      <td>...</td>\n",
       "      <td>3.435464</td>\n",
       "      <td>-5.169600</td>\n",
       "      <td>7.102491</td>\n",
       "      <td>34.516881</td>\n",
       "      <td>6.177686</td>\n",
       "      <td>-27.770856</td>\n",
       "      <td>12.926435</td>\n",
       "      <td>-4.564559</td>\n",
       "      <td>33.919834</td>\n",
       "      <td>0</td>\n",
       "    </tr>\n",
       "    <tr>\n",
       "      <th>2</th>\n",
       "      <td>2</td>\n",
       "      <td>2</td>\n",
       "      <td>2</td>\n",
       "      <td>1</td>\n",
       "      <td>1</td>\n",
       "      <td>73.0</td>\n",
       "      <td>59.0</td>\n",
       "      <td>14</td>\n",
       "      <td>10</td>\n",
       "      <td>4</td>\n",
       "      <td>...</td>\n",
       "      <td>-1.216773</td>\n",
       "      <td>11.909693</td>\n",
       "      <td>9.591573</td>\n",
       "      <td>11.846737</td>\n",
       "      <td>1.397859</td>\n",
       "      <td>6.454157</td>\n",
       "      <td>-0.271460</td>\n",
       "      <td>-12.500337</td>\n",
       "      <td>27.634567</td>\n",
       "      <td>0</td>\n",
       "    </tr>\n",
       "    <tr>\n",
       "      <th>3</th>\n",
       "      <td>3</td>\n",
       "      <td>3</td>\n",
       "      <td>3</td>\n",
       "      <td>1</td>\n",
       "      <td>1</td>\n",
       "      <td>50.0</td>\n",
       "      <td>65.0</td>\n",
       "      <td>11</td>\n",
       "      <td>9</td>\n",
       "      <td>0</td>\n",
       "      <td>...</td>\n",
       "      <td>1.672591</td>\n",
       "      <td>-0.863278</td>\n",
       "      <td>-2.906553</td>\n",
       "      <td>-3.466688</td>\n",
       "      <td>-3.867892</td>\n",
       "      <td>-4.249463</td>\n",
       "      <td>-12.551012</td>\n",
       "      <td>4.494087</td>\n",
       "      <td>-6.223341</td>\n",
       "      <td>0</td>\n",
       "    </tr>\n",
       "    <tr>\n",
       "      <th>4</th>\n",
       "      <td>4</td>\n",
       "      <td>4</td>\n",
       "      <td>4</td>\n",
       "      <td>3</td>\n",
       "      <td>1</td>\n",
       "      <td>76.0</td>\n",
       "      <td>39.0</td>\n",
       "      <td>13</td>\n",
       "      <td>7</td>\n",
       "      <td>2</td>\n",
       "      <td>...</td>\n",
       "      <td>-8.444207</td>\n",
       "      <td>-14.450059</td>\n",
       "      <td>-12.709382</td>\n",
       "      <td>-4.449050</td>\n",
       "      <td>12.563987</td>\n",
       "      <td>-11.721362</td>\n",
       "      <td>-16.459300</td>\n",
       "      <td>3.626297</td>\n",
       "      <td>-9.790615</td>\n",
       "      <td>0</td>\n",
       "    </tr>\n",
       "  </tbody>\n",
       "</table>\n",
       "<p>5 rows × 630 columns</p>\n",
       "</div>"
      ],
      "text/plain": [
       "   Unnamed: 0.1  Unnamed: 0  id  freq_qid1  freq_qid2  q1len  q2len  \\\n",
       "0             0           0   0          1          1   66.0   57.0   \n",
       "1             1           1   1          4          1   51.0   88.0   \n",
       "2             2           2   2          1          1   73.0   59.0   \n",
       "3             3           3   3          1          1   50.0   65.0   \n",
       "4             4           4   4          3          1   76.0   39.0   \n",
       "\n",
       "   q1_n_words  q2_n_words  word_Common  ...     291_y      292_y      293_y  \\\n",
       "0          14          12           10  ...  7.231024   1.531186  -7.528823   \n",
       "1           8          13            4  ...  3.435464  -5.169600   7.102491   \n",
       "2          14          10            4  ... -1.216773  11.909693   9.591573   \n",
       "3          11           9            0  ...  1.672591  -0.863278  -2.906553   \n",
       "4          13           7            2  ... -8.444207 -14.450059 -12.709382   \n",
       "\n",
       "       294_y      295_y      296_y      297_y      298_y      299_y  \\\n",
       "0   0.473802 -11.864658 -11.293788   1.866265   3.616046  11.971096   \n",
       "1  34.516881   6.177686 -27.770856  12.926435  -4.564559  33.919834   \n",
       "2  11.846737   1.397859   6.454157  -0.271460 -12.500337  27.634567   \n",
       "3  -3.466688  -3.867892  -4.249463 -12.551012   4.494087  -6.223341   \n",
       "4  -4.449050  12.563987 -11.721362 -16.459300   3.626297  -9.790615   \n",
       "\n",
       "   is_duplicate  \n",
       "0             0  \n",
       "1             0  \n",
       "2             0  \n",
       "3             0  \n",
       "4             0  \n",
       "\n",
       "[5 rows x 630 columns]"
      ]
     },
     "execution_count": 8,
     "metadata": {},
     "output_type": "execute_result"
    }
   ],
   "source": [
    "df.head()"
   ]
  },
  {
   "cell_type": "code",
   "execution_count": 9,
   "id": "3068ac09",
   "metadata": {},
   "outputs": [
    {
     "name": "stdout",
     "output_type": "stream",
     "text": [
      "<class 'pandas.core.frame.DataFrame'>\n",
      "RangeIndex: 404290 entries, 0 to 404289\n",
      "Columns: 630 entries, Unnamed: 0.1 to is_duplicate\n",
      "dtypes: float64(615), int64(15)\n",
      "memory usage: 1.9 GB\n"
     ]
    }
   ],
   "source": [
    "cols=list(df.columns)\n",
    "df.info()"
   ]
  },
  {
   "cell_type": "code",
   "execution_count": 10,
   "id": "cca507fc",
   "metadata": {},
   "outputs": [
    {
     "data": {
      "text/plain": [
       "False"
      ]
     },
     "execution_count": 10,
     "metadata": {},
     "output_type": "execute_result"
    }
   ],
   "source": [
    "df=df.fillna(0)\n",
    "df.isnull().values.any()"
   ]
  },
  {
   "cell_type": "code",
   "execution_count": 11,
   "id": "b105a8d4",
   "metadata": {},
   "outputs": [],
   "source": [
    "y=df['is_duplicate']\n",
    "df.drop(['is_duplicate','Unnamed: 0.1','Unnamed: 0','id'],axis=1,inplace=True)"
   ]
  },
  {
   "cell_type": "code",
   "execution_count": 12,
   "id": "8d0ef68c",
   "metadata": {},
   "outputs": [],
   "source": [
    "cols=list(df.columns)\n",
    "for i in cols:\n",
    "    df[i]=df[i].apply(pd.to_numeric)"
   ]
  },
  {
   "cell_type": "code",
   "execution_count": 13,
   "id": "5f5c60f0",
   "metadata": {},
   "outputs": [
    {
     "name": "stdout",
     "output_type": "stream",
     "text": [
      "<class 'pandas.core.series.Series'>\n",
      "RangeIndex: 404290 entries, 0 to 404289\n",
      "Series name: is_duplicate\n",
      "Non-Null Count   Dtype\n",
      "--------------   -----\n",
      "404290 non-null  int64\n",
      "dtypes: int64(1)\n",
      "memory usage: 3.1 MB\n"
     ]
    }
   ],
   "source": [
    "y.info()"
   ]
  },
  {
   "cell_type": "code",
   "execution_count": 14,
   "id": "081c3d4e",
   "metadata": {},
   "outputs": [],
   "source": [
    "x_train,x_test,y_train,y_test=train_test_split(df,y,stratify=y,test_size=0.3)"
   ]
  },
  {
   "cell_type": "code",
   "execution_count": 15,
   "id": "25b41c63",
   "metadata": {},
   "outputs": [
    {
     "name": "stdout",
     "output_type": "stream",
     "text": [
      "No. of points in train data (283003, 626)\n",
      "No. of test data points (121287, 626)\n"
     ]
    }
   ],
   "source": [
    "print('No. of points in train data',x_train.shape)\n",
    "print('No. of test data points',x_test.shape)"
   ]
  },
  {
   "cell_type": "code",
   "execution_count": 16,
   "id": "317e8735",
   "metadata": {},
   "outputs": [],
   "source": [
    "def Confusion_matrix(test_y,predict_y):\n",
    "    C=confusion_matrix(test_y,predict_y)\n",
    "    A=(((C.T)/(C.sum(axis=1))).T)\n",
    "    B=(C/C.sum(axis=0))\n",
    "    plt.figure(figsize=(20,4))\n",
    "    labels=[0,1]\n",
    "    cmap=sns.light_palette('red')\n",
    "    plt.subplot(1,3,1)\n",
    "    sns.heatmap(C,annot=True,cmap=cmap,fmt='.3f',xticklabels=labels,yticklabels=labels)\n",
    "    plt.xlabel('Predicted Class')\n",
    "    plt.ylabel('Original Class')\n",
    "    plt.title('Confusion Matrix')\n",
    "    \n",
    "    plt.subplot(1,3,2)\n",
    "    sns.heatmap(A,annot=True,cmap=cmap,fmt='.3f',xticklabels=labels,yticklabels=labels)\n",
    "    plt.xlabel('Predicted Class')\n",
    "    plt.ylabel('Original Class')\n",
    "    plt.title('Precision Matrix')\n",
    "    \n",
    "    plt.subplot(1,3,3)\n",
    "    sns.heatmap(C,annot=True,cmap=cmap,fmt='.3f',xticklabels=labels,yticklabels=labels)\n",
    "    plt.xlabel('Predicted Class')\n",
    "    plt.ylabel('Original Class')\n",
    "    plt.title('Recall Matrix')\n",
    "    plt.show()"
   ]
  },
  {
   "cell_type": "markdown",
   "id": "2f7a6f07",
   "metadata": {},
   "source": [
    "## Building a random Model"
   ]
  },
  {
   "cell_type": "code",
   "execution_count": 17,
   "id": "dd084591",
   "metadata": {},
   "outputs": [
    {
     "name": "stdout",
     "output_type": "stream",
     "text": [
      "Log loss on test data using Random model 0.8876252273910658\n"
     ]
    }
   ],
   "source": [
    "predicted_y=np.zeros((len(y_test),2))\n",
    "for i in range(len(y_test)):\n",
    "\n",
    "    rand_probs = np.random.rand(1,2)\n",
    "\n",
    "    \n",
    "    predicted_y[i]=((rand_probs/sum(sum(rand_probs)))[0])\n",
    "print('Log loss on test data using Random model',log_loss(y_test,predicted_y))\n",
    "predicted_y=np.argmax(predicted_y,axis=1)"
   ]
  },
  {
   "cell_type": "markdown",
   "id": "520d7c83",
   "metadata": {},
   "source": [
    "#### Since a random model gives a log loss of 0.8845 than the log loss for any sensible model should be <0.8845"
   ]
  },
  {
   "cell_type": "code",
   "execution_count": 18,
   "id": "7b36a51b",
   "metadata": {},
   "outputs": [
    {
     "data": {
      "image/png": "[encoded data removed]",
      "text/plain": [
       "<Figure size 1440x288 with 6 Axes>"
      ]
     },
     "metadata": {
      "needs_background": "light"
     },
     "output_type": "display_data"
    }
   ],
   "source": [
    "\n",
    "Confusion_matrix(y_test,predicted_y)"
   ]
  },
  {
   "cell_type": "code",
   "execution_count": 19,
   "id": "52023887",
   "metadata": {},
   "outputs": [
    {
     "name": "stdout",
     "output_type": "stream",
     "text": [
      "For values of alpha = 1e-05 The log loss is:  0.4464717751459756\n",
      "For values of alpha = 0.0001 The log loss is:  0.4438432180099445\n",
      "For values of alpha = 0.001 The log loss is:  0.44395352157490675\n",
      "For values of alpha = 0.01 The log loss is:  0.42149293843705155\n",
      "For values of alpha = 0.1 The log loss is:  0.4279990615086401\n",
      "For values of alpha = 1 The log loss is:  0.4631041524874093\n",
      "For values of alpha = 10 The log loss is:  0.5121427927763119\n"
     ]
    }
   ],
   "source": [
    "alpha=[10**x for x in range(-5,2)]\n",
    "log_error_array=[]\n",
    "for i in alpha:\n",
    "    clf= SGDClassifier(alpha=i,penalty='l2',loss='log_loss',random_state=42)\n",
    "    clf.fit(x_train,y_train)\n",
    "    sig_clf=CalibratedClassifierCV(clf,method='sigmoid')\n",
    "    sig_clf.fit(x_train,y_train)\n",
    "    predicted_y=sig_clf.predict_proba(x_test)\n",
    "    log_error_array.append(log_loss(y_test,predicted_y,labels=clf.classes_))\n",
    "    print('For values of alpha =',i,\"The log loss is: \",log_error_array[-1])\n",
    "\n"
   ]
  },
  {
   "cell_type": "code",
   "execution_count": 20,
   "id": "c26f4a41",
   "metadata": {
    "scrolled": true
   },
   "outputs": [
    {
     "data": {
      "image/png": "[encoded data removed]",
      "text/plain": [
       "<Figure size 432x288 with 1 Axes>"
      ]
     },
     "metadata": {
      "needs_background": "light"
     },
     "output_type": "display_data"
    },
    {
     "name": "stdout",
     "output_type": "stream",
     "text": [
      "The log loss on train dataset  0.4201899177416916\n",
      "The log loss on test dataset  0.4201108694345099\n"
     ]
    },
    {
     "data": {
      "image/png": "[encoded data removed]",
      "text/plain": [
       "<Figure size 1440x288 with 6 Axes>"
      ]
     },
     "metadata": {
      "needs_background": "light"
     },
     "output_type": "display_data"
    }
   ],
   "source": [
    "min_log_loss=np.argmin(log_error_array)\n",
    "fig,ax=plt.subplots()\n",
    "ax.plot(alpha,log_error_array,c='g')\n",
    "for i,txt in enumerate(np.round(log_error_array,3)):\n",
    "    ax.annotate((alpha[i],np.round(txt,3)),(alpha[i],log_error_array[i]))\n",
    "plt.grid()\n",
    "plt.title(\"Cross Validation Error for each alpha\")\n",
    "plt.xlabel(\"Alpha i's\")\n",
    "plt.ylabel('Error measure')\n",
    "plt.show()\n",
    "\n",
    "best_alpha=np.argmin(log_error_array)\n",
    "clf=SGDClassifier(alpha=alpha[best_alpha],penalty='l2',loss='log_loss')\n",
    "clf.fit(x_train,y_train)\n",
    "sig_clf=CalibratedClassifierCV(clf,method='sigmoid')\n",
    "sig_clf.fit(x_train,y_train)\n",
    "\n",
    "predict_y=sig_clf.predict_proba(x_train)\n",
    "print('The log loss on train dataset ',log_loss(y_train,predict_y,labels=clf.classes_))\n",
    "predict_y=sig_clf.predict_proba(x_test)\n",
    "print('The log loss on test dataset ',log_loss(y_test,predict_y,labels=clf.classes_))\n",
    "predicted_y =np.argmax(predict_y,axis=1)\n",
    "Confusion_matrix(y_test,predicted_y)"
   ]
  },
  {
   "cell_type": "code",
   "execution_count": 21,
   "id": "c5a07fd9",
   "metadata": {},
   "outputs": [
    {
     "name": "stdout",
     "output_type": "stream",
     "text": [
      "For values of alpha =  1e-05 The log loss is: 0.44521899952927646\n"
     ]
    },
    {
     "name": "stderr",
     "output_type": "stream",
     "text": [
      "C:\\Python310\\lib\\site-packages\\sklearn\\linear_model\\_stochastic_gradient.py:705: ConvergenceWarning: Maximum number of iteration reached before convergence. Consider increasing max_iter to improve the fit.\n",
      "  warnings.warn(\n",
      "C:\\Python310\\lib\\site-packages\\sklearn\\linear_model\\_stochastic_gradient.py:705: ConvergenceWarning: Maximum number of iteration reached before convergence. Consider increasing max_iter to improve the fit.\n",
      "  warnings.warn(\n",
      "C:\\Python310\\lib\\site-packages\\sklearn\\linear_model\\_stochastic_gradient.py:705: ConvergenceWarning: Maximum number of iteration reached before convergence. Consider increasing max_iter to improve the fit.\n",
      "  warnings.warn(\n",
      "C:\\Python310\\lib\\site-packages\\sklearn\\linear_model\\_stochastic_gradient.py:705: ConvergenceWarning: Maximum number of iteration reached before convergence. Consider increasing max_iter to improve the fit.\n",
      "  warnings.warn(\n",
      "C:\\Python310\\lib\\site-packages\\sklearn\\linear_model\\_stochastic_gradient.py:705: ConvergenceWarning: Maximum number of iteration reached before convergence. Consider increasing max_iter to improve the fit.\n",
      "  warnings.warn(\n",
      "C:\\Python310\\lib\\site-packages\\sklearn\\linear_model\\_stochastic_gradient.py:705: ConvergenceWarning: Maximum number of iteration reached before convergence. Consider increasing max_iter to improve the fit.\n",
      "  warnings.warn(\n"
     ]
    },
    {
     "name": "stdout",
     "output_type": "stream",
     "text": [
      "For values of alpha =  0.0001 The log loss is: 0.4586442095217553\n"
     ]
    },
    {
     "name": "stderr",
     "output_type": "stream",
     "text": [
      "C:\\Python310\\lib\\site-packages\\sklearn\\linear_model\\_stochastic_gradient.py:705: ConvergenceWarning: Maximum number of iteration reached before convergence. Consider increasing max_iter to improve the fit.\n",
      "  warnings.warn(\n",
      "C:\\Python310\\lib\\site-packages\\sklearn\\linear_model\\_stochastic_gradient.py:705: ConvergenceWarning: Maximum number of iteration reached before convergence. Consider increasing max_iter to improve the fit.\n",
      "  warnings.warn(\n",
      "C:\\Python310\\lib\\site-packages\\sklearn\\linear_model\\_stochastic_gradient.py:705: ConvergenceWarning: Maximum number of iteration reached before convergence. Consider increasing max_iter to improve the fit.\n",
      "  warnings.warn(\n",
      "C:\\Python310\\lib\\site-packages\\sklearn\\linear_model\\_stochastic_gradient.py:705: ConvergenceWarning: Maximum number of iteration reached before convergence. Consider increasing max_iter to improve the fit.\n",
      "  warnings.warn(\n",
      "C:\\Python310\\lib\\site-packages\\sklearn\\linear_model\\_stochastic_gradient.py:705: ConvergenceWarning: Maximum number of iteration reached before convergence. Consider increasing max_iter to improve the fit.\n",
      "  warnings.warn(\n",
      "C:\\Python310\\lib\\site-packages\\sklearn\\linear_model\\_stochastic_gradient.py:705: ConvergenceWarning: Maximum number of iteration reached before convergence. Consider increasing max_iter to improve the fit.\n",
      "  warnings.warn(\n"
     ]
    },
    {
     "name": "stdout",
     "output_type": "stream",
     "text": [
      "For values of alpha =  0.001 The log loss is: 0.5197026639512741\n"
     ]
    },
    {
     "name": "stderr",
     "output_type": "stream",
     "text": [
      "C:\\Python310\\lib\\site-packages\\sklearn\\linear_model\\_stochastic_gradient.py:705: ConvergenceWarning: Maximum number of iteration reached before convergence. Consider increasing max_iter to improve the fit.\n",
      "  warnings.warn(\n",
      "C:\\Python310\\lib\\site-packages\\sklearn\\linear_model\\_stochastic_gradient.py:705: ConvergenceWarning: Maximum number of iteration reached before convergence. Consider increasing max_iter to improve the fit.\n",
      "  warnings.warn(\n",
      "C:\\Python310\\lib\\site-packages\\sklearn\\linear_model\\_stochastic_gradient.py:705: ConvergenceWarning: Maximum number of iteration reached before convergence. Consider increasing max_iter to improve the fit.\n",
      "  warnings.warn(\n",
      "C:\\Python310\\lib\\site-packages\\sklearn\\linear_model\\_stochastic_gradient.py:705: ConvergenceWarning: Maximum number of iteration reached before convergence. Consider increasing max_iter to improve the fit.\n",
      "  warnings.warn(\n",
      "C:\\Python310\\lib\\site-packages\\sklearn\\linear_model\\_stochastic_gradient.py:705: ConvergenceWarning: Maximum number of iteration reached before convergence. Consider increasing max_iter to improve the fit.\n",
      "  warnings.warn(\n",
      "C:\\Python310\\lib\\site-packages\\sklearn\\linear_model\\_stochastic_gradient.py:705: ConvergenceWarning: Maximum number of iteration reached before convergence. Consider increasing max_iter to improve the fit.\n",
      "  warnings.warn(\n"
     ]
    },
    {
     "name": "stdout",
     "output_type": "stream",
     "text": [
      "For values of alpha =  0.01 The log loss is: 0.47103336749206026\n"
     ]
    },
    {
     "name": "stderr",
     "output_type": "stream",
     "text": [
      "C:\\Python310\\lib\\site-packages\\sklearn\\linear_model\\_stochastic_gradient.py:705: ConvergenceWarning: Maximum number of iteration reached before convergence. Consider increasing max_iter to improve the fit.\n",
      "  warnings.warn(\n",
      "C:\\Python310\\lib\\site-packages\\sklearn\\linear_model\\_stochastic_gradient.py:705: ConvergenceWarning: Maximum number of iteration reached before convergence. Consider increasing max_iter to improve the fit.\n",
      "  warnings.warn(\n",
      "C:\\Python310\\lib\\site-packages\\sklearn\\linear_model\\_stochastic_gradient.py:705: ConvergenceWarning: Maximum number of iteration reached before convergence. Consider increasing max_iter to improve the fit.\n",
      "  warnings.warn(\n",
      "C:\\Python310\\lib\\site-packages\\sklearn\\linear_model\\_stochastic_gradient.py:705: ConvergenceWarning: Maximum number of iteration reached before convergence. Consider increasing max_iter to improve the fit.\n",
      "  warnings.warn(\n",
      "C:\\Python310\\lib\\site-packages\\sklearn\\linear_model\\_stochastic_gradient.py:705: ConvergenceWarning: Maximum number of iteration reached before convergence. Consider increasing max_iter to improve the fit.\n",
      "  warnings.warn(\n",
      "C:\\Python310\\lib\\site-packages\\sklearn\\linear_model\\_stochastic_gradient.py:705: ConvergenceWarning: Maximum number of iteration reached before convergence. Consider increasing max_iter to improve the fit.\n",
      "  warnings.warn(\n"
     ]
    },
    {
     "name": "stdout",
     "output_type": "stream",
     "text": [
      "For values of alpha =  0.1 The log loss is: 0.5300780336264551\n"
     ]
    },
    {
     "name": "stderr",
     "output_type": "stream",
     "text": [
      "C:\\Python310\\lib\\site-packages\\sklearn\\linear_model\\_stochastic_gradient.py:705: ConvergenceWarning: Maximum number of iteration reached before convergence. Consider increasing max_iter to improve the fit.\n",
      "  warnings.warn(\n",
      "C:\\Python310\\lib\\site-packages\\sklearn\\linear_model\\_stochastic_gradient.py:705: ConvergenceWarning: Maximum number of iteration reached before convergence. Consider increasing max_iter to improve the fit.\n",
      "  warnings.warn(\n",
      "C:\\Python310\\lib\\site-packages\\sklearn\\linear_model\\_stochastic_gradient.py:705: ConvergenceWarning: Maximum number of iteration reached before convergence. Consider increasing max_iter to improve the fit.\n",
      "  warnings.warn(\n",
      "C:\\Python310\\lib\\site-packages\\sklearn\\linear_model\\_stochastic_gradient.py:705: ConvergenceWarning: Maximum number of iteration reached before convergence. Consider increasing max_iter to improve the fit.\n",
      "  warnings.warn(\n"
     ]
    },
    {
     "name": "stdout",
     "output_type": "stream",
     "text": [
      "For values of alpha =  1 The log loss is: 0.6152835301001535\n"
     ]
    },
    {
     "name": "stderr",
     "output_type": "stream",
     "text": [
      "C:\\Python310\\lib\\site-packages\\sklearn\\linear_model\\_stochastic_gradient.py:705: ConvergenceWarning: Maximum number of iteration reached before convergence. Consider increasing max_iter to improve the fit.\n",
      "  warnings.warn(\n",
      "C:\\Python310\\lib\\site-packages\\sklearn\\linear_model\\_stochastic_gradient.py:705: ConvergenceWarning: Maximum number of iteration reached before convergence. Consider increasing max_iter to improve the fit.\n",
      "  warnings.warn(\n"
     ]
    },
    {
     "name": "stdout",
     "output_type": "stream",
     "text": [
      "For values of alpha =  10 The log loss is: 0.6487554728619935\n"
     ]
    },
    {
     "data": {
      "image/png": "[encoded data removed]",
      "text/plain": [
       "<Figure size 432x288 with 1 Axes>"
      ]
     },
     "metadata": {
      "needs_background": "light"
     },
     "output_type": "display_data"
    },
    {
     "name": "stdout",
     "output_type": "stream",
     "text": [
      "For values of best alpha =  1e-05 The train log loss is: 0.44630764710765675\n"
     ]
    },
    {
     "ename": "NameError",
     "evalue": "name 'X_test' is not defined",
     "output_type": "error",
     "traceback": [
      "\u001b[1;31m---------------------------------------------------------------------------\u001b[0m",
      "\u001b[1;31mNameError\u001b[0m                                 Traceback (most recent call last)",
      "Input \u001b[1;32mIn [21]\u001b[0m, in \u001b[0;36m<cell line: 35>\u001b[1;34m()\u001b[0m\n\u001b[0;32m     33\u001b[0m predict_y \u001b[38;5;241m=\u001b[39m sig_clf\u001b[38;5;241m.\u001b[39mpredict_proba(x_train)\n\u001b[0;32m     34\u001b[0m \u001b[38;5;28mprint\u001b[39m(\u001b[38;5;124m'\u001b[39m\u001b[38;5;124mFor values of best alpha = \u001b[39m\u001b[38;5;124m'\u001b[39m, alpha[best_alpha], \u001b[38;5;124m\"\u001b[39m\u001b[38;5;124mThe train log loss is:\u001b[39m\u001b[38;5;124m\"\u001b[39m,log_loss(y_train, predict_y, labels\u001b[38;5;241m=\u001b[39mclf\u001b[38;5;241m.\u001b[39mclasses_, eps\u001b[38;5;241m=\u001b[39m\u001b[38;5;241m1e-15\u001b[39m))\n\u001b[1;32m---> 35\u001b[0m predict_y \u001b[38;5;241m=\u001b[39m sig_clf\u001b[38;5;241m.\u001b[39mpredict_proba(\u001b[43mX_test\u001b[49m)\n\u001b[0;32m     36\u001b[0m \u001b[38;5;28mprint\u001b[39m(\u001b[38;5;124m'\u001b[39m\u001b[38;5;124mFor values of best alpha = \u001b[39m\u001b[38;5;124m'\u001b[39m, alpha[best_alpha], \u001b[38;5;124m\"\u001b[39m\u001b[38;5;124mThe test log loss is:\u001b[39m\u001b[38;5;124m\"\u001b[39m,log_loss(y_test, predict_y, labels\u001b[38;5;241m=\u001b[39mclf\u001b[38;5;241m.\u001b[39mclasses_, eps\u001b[38;5;241m=\u001b[39m\u001b[38;5;241m1e-15\u001b[39m))\n\u001b[0;32m     37\u001b[0m predicted_y \u001b[38;5;241m=\u001b[39mnp\u001b[38;5;241m.\u001b[39margmax(predict_y,axis\u001b[38;5;241m=\u001b[39m\u001b[38;5;241m1\u001b[39m)\n",
      "\u001b[1;31mNameError\u001b[0m: name 'X_test' is not defined"
     ]
    }
   ],
   "source": [
    "alpha = [10 ** x for x in range(-5, 2)] # hyperparam for SGD classifier.\n",
    "\n",
    "\n",
    "\n",
    "\n",
    "log_error_array=[]\n",
    "for i in alpha:\n",
    "    clf = SGDClassifier(alpha=i, penalty='l1', loss='hinge', random_state=42,n_jobs=-1)\n",
    "    clf.fit(x_train, y_train)\n",
    "    sig_clf = CalibratedClassifierCV(clf, method=\"sigmoid\")\n",
    "    sig_clf.fit(x_train, y_train)\n",
    "    predict_y = sig_clf.predict_proba(x_test)\n",
    "    log_error_array.append(log_loss(y_test, predict_y, labels=clf.classes_, eps=1e-15))\n",
    "    print('For values of alpha = ', i, \"The log loss is:\",log_loss(y_test, predict_y, labels=clf.classes_, eps=1e-15))\n",
    "\n",
    "fig, ax = plt.subplots()\n",
    "ax.plot(alpha, log_error_array,c='g')\n",
    "for i, txt in enumerate(np.round(log_error_array,3)):\n",
    "    ax.annotate((alpha[i],np.round(txt,3)), (alpha[i],log_error_array[i]))\n",
    "plt.grid()\n",
    "plt.title(\"Cross Validation Error for each alpha\")\n",
    "plt.xlabel(\"Alpha i's\")\n",
    "plt.ylabel(\"Error measure\")\n",
    "plt.show()\n",
    "\n",
    "\n",
    "best_alpha = np.argmin(log_error_array)\n",
    "clf = SGDClassifier(alpha=alpha[best_alpha], penalty='l1', loss='hinge', random_state=42)\n",
    "clf.fit(x_train, y_train)\n",
    "sig_clf = CalibratedClassifierCV(clf, method=\"sigmoid\")\n",
    "sig_clf.fit(x_train, y_train)\n",
    "\n",
    "predict_y = sig_clf.predict_proba(x_train)\n",
    "print('For values of best alpha = ', alpha[best_alpha], \"The train log loss is:\",log_loss(y_train, predict_y, labels=clf.classes_, eps=1e-15))\n",
    "predict_y = sig_clf.predict_proba(X_test)\n",
    "print('For values of best alpha = ', alpha[best_alpha], \"The test log loss is:\",log_loss(y_test, predict_y, labels=clf.classes_, eps=1e-15))\n",
    "predicted_y =np.argmax(predict_y,axis=1)\n",
    "print(\"Total number of data points :\", len(predicted_y))\n",
    "Confusion_matrix(y_test, predicted_y)"
   ]
  },
  {
   "cell_type": "code",
   "execution_count": null,
   "id": "67f7b136",
   "metadata": {},
   "outputs": [],
   "source": []
  }
 ],
 "metadata": {
  "kernelspec": {
   "display_name": "Python 3 (ipykernel)",
   "language": "python",
   "name": "python3"
  },
  "language_info": {
   "codemirror_mode": {
    "name": "ipython",
    "version": 3
   },
   "file_extension": ".py",
   "mimetype": "text/x-python",
   "name": "python",
   "nbconvert_exporter": "python",
   "pygments_lexer": "ipython3",
   "version": "3.10.4"
  }
 },
 "nbformat": 4,
 "nbformat_minor": 5
}
