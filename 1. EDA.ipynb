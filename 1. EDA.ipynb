{
 "cells": [
  {
   "cell_type": "code",
   "execution_count": 1,
   "id": "4b9dd205",
   "metadata": {},
   "outputs": [],
   "source": [
    "import numpy as np\n",
    "import pandas as pd\n",
    "import matplotlib.pyplot as plt\n",
    "import re\n",
    "import os\n",
    "import gc\n",
    "import seaborn as sns\n",
    "\n"
   ]
  },
  {
   "cell_type": "code",
   "execution_count": 2,
   "id": "0ba514d1",
   "metadata": {},
   "outputs": [
    {
     "name": "stdout",
     "output_type": "stream",
     "text": [
      "404290\n"
     ]
    }
   ],
   "source": [
    "df=pd.read_csv('train.csv')\n",
    "print(df.shape[0])\n"
   ]
  },
  {
   "cell_type": "code",
   "execution_count": 3,
   "id": "53afcc85",
   "metadata": {},
   "outputs": [
    {
     "data": {
      "text/html": [
       "<div>\n",
       "<style scoped>\n",
       "    .dataframe tbody tr th:only-of-type {\n",
       "        vertical-align: middle;\n",
       "    }\n",
       "\n",
       "    .dataframe tbody tr th {\n",
       "        vertical-align: top;\n",
       "    }\n",
       "\n",
       "    .dataframe thead th {\n",
       "        text-align: right;\n",
       "    }\n",
       "</style>\n",
       "<table border=\"1\" class=\"dataframe\">\n",
       "  <thead>\n",
       "    <tr style=\"text-align: right;\">\n",
       "      <th></th>\n",
       "      <th>id</th>\n",
       "      <th>qid1</th>\n",
       "      <th>qid2</th>\n",
       "      <th>question1</th>\n",
       "      <th>question2</th>\n",
       "      <th>is_duplicate</th>\n",
       "    </tr>\n",
       "  </thead>\n",
       "  <tbody>\n",
       "    <tr>\n",
       "      <th>0</th>\n",
       "      <td>0</td>\n",
       "      <td>1</td>\n",
       "      <td>2</td>\n",
       "      <td>What is the step by step guide to invest in sh...</td>\n",
       "      <td>What is the step by step guide to invest in sh...</td>\n",
       "      <td>0</td>\n",
       "    </tr>\n",
       "    <tr>\n",
       "      <th>1</th>\n",
       "      <td>1</td>\n",
       "      <td>3</td>\n",
       "      <td>4</td>\n",
       "      <td>What is the story of Kohinoor (Koh-i-Noor) Dia...</td>\n",
       "      <td>What would happen if the Indian government sto...</td>\n",
       "      <td>0</td>\n",
       "    </tr>\n",
       "    <tr>\n",
       "      <th>2</th>\n",
       "      <td>2</td>\n",
       "      <td>5</td>\n",
       "      <td>6</td>\n",
       "      <td>How can I increase the speed of my internet co...</td>\n",
       "      <td>How can Internet speed be increased by hacking...</td>\n",
       "      <td>0</td>\n",
       "    </tr>\n",
       "    <tr>\n",
       "      <th>3</th>\n",
       "      <td>3</td>\n",
       "      <td>7</td>\n",
       "      <td>8</td>\n",
       "      <td>Why am I mentally very lonely? How can I solve...</td>\n",
       "      <td>Find the remainder when [math]23^{24}[/math] i...</td>\n",
       "      <td>0</td>\n",
       "    </tr>\n",
       "    <tr>\n",
       "      <th>4</th>\n",
       "      <td>4</td>\n",
       "      <td>9</td>\n",
       "      <td>10</td>\n",
       "      <td>Which one dissolve in water quikly sugar, salt...</td>\n",
       "      <td>Which fish would survive in salt water?</td>\n",
       "      <td>0</td>\n",
       "    </tr>\n",
       "  </tbody>\n",
       "</table>\n",
       "</div>"
      ],
      "text/plain": [
       "   id  qid1  qid2                                          question1  \\\n",
       "0   0     1     2  What is the step by step guide to invest in sh...   \n",
       "1   1     3     4  What is the story of Kohinoor (Koh-i-Noor) Dia...   \n",
       "2   2     5     6  How can I increase the speed of my internet co...   \n",
       "3   3     7     8  Why am I mentally very lonely? How can I solve...   \n",
       "4   4     9    10  Which one dissolve in water quikly sugar, salt...   \n",
       "\n",
       "                                           question2  is_duplicate  \n",
       "0  What is the step by step guide to invest in sh...             0  \n",
       "1  What would happen if the Indian government sto...             0  \n",
       "2  How can Internet speed be increased by hacking...             0  \n",
       "3  Find the remainder when [math]23^{24}[/math] i...             0  \n",
       "4            Which fish would survive in salt water?             0  "
      ]
     },
     "execution_count": 3,
     "metadata": {},
     "output_type": "execute_result"
    }
   ],
   "source": [
    "df.head()"
   ]
  },
  {
   "cell_type": "code",
   "execution_count": 4,
   "id": "07f39809",
   "metadata": {},
   "outputs": [
    {
     "name": "stdout",
     "output_type": "stream",
     "text": [
      "<class 'pandas.core.frame.DataFrame'>\n",
      "RangeIndex: 404290 entries, 0 to 404289\n",
      "Data columns (total 6 columns):\n",
      " #   Column        Non-Null Count   Dtype \n",
      "---  ------        --------------   ----- \n",
      " 0   id            404290 non-null  int64 \n",
      " 1   qid1          404290 non-null  int64 \n",
      " 2   qid2          404290 non-null  int64 \n",
      " 3   question1     404289 non-null  object\n",
      " 4   question2     404288 non-null  object\n",
      " 5   is_duplicate  404290 non-null  int64 \n",
      "dtypes: int64(4), object(2)\n",
      "memory usage: 18.5+ MB\n"
     ]
    }
   ],
   "source": [
    "df.info()"
   ]
  },
  {
   "cell_type": "code",
   "execution_count": 5,
   "id": "441b3521",
   "metadata": {},
   "outputs": [
    {
     "data": {
      "text/plain": [
       "149263"
      ]
     },
     "execution_count": 5,
     "metadata": {},
     "output_type": "execute_result"
    }
   ],
   "source": [
    "df.groupby(\"is_duplicate\")['id'].count()[1]\n",
    "\n",
    "\n",
    "\n",
    "    "
   ]
  },
  {
   "cell_type": "code",
   "execution_count": 6,
   "id": "668f1ff7",
   "metadata": {},
   "outputs": [
    {
     "data": {
      "text/plain": [
       "36.9197853026293"
      ]
     },
     "execution_count": 6,
     "metadata": {},
     "output_type": "execute_result"
    }
   ],
   "source": [
    "df['is_duplicate'].mean()*100"
   ]
  },
  {
   "cell_type": "code",
   "execution_count": 7,
   "id": "0c425123",
   "metadata": {},
   "outputs": [
    {
     "name": "stdout",
     "output_type": "stream",
     "text": [
      "36.9197853026293\n"
     ]
    }
   ],
   "source": [
    "print(df.groupby(\"is_duplicate\")['id'].count()[1]/df.shape[0]*100)"
   ]
  },
  {
   "cell_type": "raw",
   "id": "4fd3823b",
   "metadata": {},
   "source": [
    "Number of unique questions\n",
    "\n"
   ]
  },
  {
   "cell_type": "code",
   "execution_count": 8,
   "id": "7be6fc3c",
   "metadata": {},
   "outputs": [
    {
     "name": "stdout",
     "output_type": "stream",
     "text": [
      "Total Number of Unique Questions 537933\n"
     ]
    }
   ],
   "source": [
    "quids=pd.Series(df['qid1'].tolist()+df['qid2'].tolist())\n",
    "unique_qs=len(np.unique(quids))\n",
    "print('Total Number of Unique Questions',unique_qs)\n"
   ]
  },
  {
   "cell_type": "code",
   "execution_count": 9,
   "id": "e17bc5e0",
   "metadata": {},
   "outputs": [
    {
     "name": "stdout",
     "output_type": "stream",
     "text": [
      "            id    qid1    qid2                         question1  \\\n",
      "105780  105780  174363  174364    How can I develop android app?   \n",
      "201841  201841  303951  174364  How can I create an Android app?   \n",
      "363362  363362  493340  493341                               NaN   \n",
      "\n",
      "                                                question2  is_duplicate  \n",
      "105780                                                NaN             0  \n",
      "201841                                                NaN             0  \n",
      "363362  My Chinese name is Haichao Yu. What English na...             0  \n"
     ]
    }
   ],
   "source": [
    "nan_rows=df[df.isnull().any(1)]\n",
    "print(nan_rows)"
   ]
  },
  {
   "cell_type": "code",
   "execution_count": null,
   "id": "9d123471",
   "metadata": {},
   "outputs": [],
   "source": []
  },
  {
   "cell_type": "code",
   "execution_count": 10,
   "id": "d8336b45",
   "metadata": {},
   "outputs": [
    {
     "name": "stdout",
     "output_type": "stream",
     "text": [
      "Maximum number of times a single question is repeated: 157\n",
      "\n"
     ]
    },
    {
     "data": {
      "image/png": "[encoded data removed]",
      "text/plain": [
       "<Figure size 1440x720 with 1 Axes>"
      ]
     },
     "metadata": {
      "needs_background": "light"
     },
     "output_type": "display_data"
    }
   ],
   "source": [
    "plt.figure(figsize=(20, 10))\n",
    "\n",
    "plt.hist(quids.value_counts(), bins=160)\n",
    "\n",
    "plt.yscale('log')\n",
    "\n",
    "plt.title('Log-Histogram of question appearance counts')\n",
    "\n",
    "plt.xlabel('Number of occurences of question')\n",
    "\n",
    "plt.ylabel('Number of questions')\n",
    "\n",
    "print ('Maximum number of times a single question is repeated: {}\\n'.format(max(quids.value_counts()))) "
   ]
  },
  {
   "cell_type": "raw",
   "id": "fb53b4cd",
   "metadata": {},
   "source": [
    "freq_qid1 = Frequency of qid1's\n",
    "freq_qid2 = Frequency of qid2's\n",
    "q1len = Length of q1\n",
    "q2len = Length of q2\n",
    "q1_n_words = Number of words in Question 1\n",
    "q2_n_words = Number of words in Question 2\n",
    "word_Common = (Number of common unique words in Question 1 and Question 2)\n",
    "word_Total =(Total num of words in Question 1 + Total num of words in Question 2)\n",
    "word_share = (word_common)/(word_Total)\n",
    "freq_q1+freq_q2 = sum total of frequency of qid1 and qid2\n",
    "freq_q1-freq_q2 = absolute difference of frequency of qid1 and qid2"
   ]
  },
  {
   "cell_type": "code",
   "execution_count": 11,
   "id": "67fa462b",
   "metadata": {},
   "outputs": [
    {
     "name": "stdout",
     "output_type": "stream",
     "text": [
      "   id  qid1  qid2                                          question1  \\\n",
      "0   0     1     2  What is the step by step guide to invest in sh...   \n",
      "1   1     3     4  What is the story of Kohinoor (Koh-i-Noor) Dia...   \n",
      "2   2     5     6  How can I increase the speed of my internet co...   \n",
      "3   3     7     8  Why am I mentally very lonely? How can I solve...   \n",
      "4   4     9    10  Which one dissolve in water quikly sugar, salt...   \n",
      "\n",
      "                                           question2  is_duplicate  freq_qid1  \\\n",
      "0  What is the step by step guide to invest in sh...             0          1   \n",
      "1  What would happen if the Indian government sto...             0          4   \n",
      "2  How can Internet speed be increased by hacking...             0          1   \n",
      "3  Find the remainder when [math]23^{24}[/math] i...             0          1   \n",
      "4            Which fish would survive in salt water?             0          3   \n",
      "\n",
      "   freq_qid2  q1len  q2len  q1_n_words  q2_n_words  \n",
      "0          1   66.0   57.0          14          12  \n",
      "1          1   51.0   88.0           8          13  \n",
      "2          1   73.0   59.0          14          10  \n",
      "3          1   50.0   65.0          11           9  \n",
      "4          1   76.0   39.0          13           7  \n"
     ]
    }
   ],
   "source": [
    "df['freq_qid1']=df.groupby('qid1')['qid1'].transform('count')\n",
    "df['freq_qid2']=df.groupby('qid2')['qid2'].transform('count')\n",
    "df['q1len']=df['question1'].str.len()\n",
    "df['q2len']=df['question2'].str.len()\n",
    "df['q1_n_words']=df['question1'].apply(lambda row:len(str(row).split()))\n",
    "df['q2_n_words']=df['question2'].apply(lambda row:len(str(row).split()))\n",
    "print(df.head())\n",
    "\n",
    "\n"
   ]
  },
  {
   "cell_type": "code",
   "execution_count": 12,
   "id": "beb765f3",
   "metadata": {},
   "outputs": [],
   "source": [
    "def word_co(r):\n",
    "    w1=set(map(lambda word:word.lower().strip(),str(r['question1']).split()))\n",
    "    w2=set(map(lambda word:word.lower().strip(),str(r['question2']).split()))\n",
    "    return 1*len(w1&w2)\n",
    "df['word_Common']=df.apply(word_co,axis=1)\n",
    "def n_word_Total(r):\n",
    "    w1=set(map(lambda word:word.lower().strip(),str(r['question1']).split()))\n",
    "    w2=set(map(lambda word:word.lower().strip(),str(r['question2']).split()))\n",
    "    return 1.0*(len(w1)+len(w2))\n",
    "df['word_Total']=df.apply(n_word_Total,axis=1)\n",
    "\n",
    "def n_word_Share(r):\n",
    "    w1=set(map(lambda word:word.lower().strip(),str(r['question1']).split()))\n",
    "    w2=set(map(lambda word:word.lower().strip(),str(r['question2']).split()))\n",
    "    return 1*len(w1&w2)/(len(w1)+len(w2))\n",
    "df['word_share']=df.apply(n_word_Share,axis=1)\n",
    "\n",
    "\n",
    "df['freq_q1+q2']=df['freq_qid1']+df['freq_qid2']\n",
    "df['freq_q1-q2']=abs(df['freq_qid1']-df['freq_qid2'])\n"
   ]
  },
  {
   "cell_type": "code",
   "execution_count": 13,
   "id": "ac7e37fe",
   "metadata": {},
   "outputs": [
    {
     "data": {
      "text/html": [
       "<div>\n",
       "<style scoped>\n",
       "    .dataframe tbody tr th:only-of-type {\n",
       "        vertical-align: middle;\n",
       "    }\n",
       "\n",
       "    .dataframe tbody tr th {\n",
       "        vertical-align: top;\n",
       "    }\n",
       "\n",
       "    .dataframe thead th {\n",
       "        text-align: right;\n",
       "    }\n",
       "</style>\n",
       "<table border=\"1\" class=\"dataframe\">\n",
       "  <thead>\n",
       "    <tr style=\"text-align: right;\">\n",
       "      <th></th>\n",
       "      <th>id</th>\n",
       "      <th>qid1</th>\n",
       "      <th>qid2</th>\n",
       "      <th>question1</th>\n",
       "      <th>question2</th>\n",
       "      <th>is_duplicate</th>\n",
       "      <th>freq_qid1</th>\n",
       "      <th>freq_qid2</th>\n",
       "      <th>q1len</th>\n",
       "      <th>q2len</th>\n",
       "      <th>q1_n_words</th>\n",
       "      <th>q2_n_words</th>\n",
       "      <th>word_Common</th>\n",
       "      <th>word_Total</th>\n",
       "      <th>word_share</th>\n",
       "      <th>freq_q1+q2</th>\n",
       "      <th>freq_q1-q2</th>\n",
       "    </tr>\n",
       "  </thead>\n",
       "  <tbody>\n",
       "    <tr>\n",
       "      <th>0</th>\n",
       "      <td>0</td>\n",
       "      <td>1</td>\n",
       "      <td>2</td>\n",
       "      <td>What is the step by step guide to invest in sh...</td>\n",
       "      <td>What is the step by step guide to invest in sh...</td>\n",
       "      <td>0</td>\n",
       "      <td>1</td>\n",
       "      <td>1</td>\n",
       "      <td>66.0</td>\n",
       "      <td>57.0</td>\n",
       "      <td>14</td>\n",
       "      <td>12</td>\n",
       "      <td>10</td>\n",
       "      <td>23.0</td>\n",
       "      <td>0.434783</td>\n",
       "      <td>2</td>\n",
       "      <td>0</td>\n",
       "    </tr>\n",
       "    <tr>\n",
       "      <th>1</th>\n",
       "      <td>1</td>\n",
       "      <td>3</td>\n",
       "      <td>4</td>\n",
       "      <td>What is the story of Kohinoor (Koh-i-Noor) Dia...</td>\n",
       "      <td>What would happen if the Indian government sto...</td>\n",
       "      <td>0</td>\n",
       "      <td>4</td>\n",
       "      <td>1</td>\n",
       "      <td>51.0</td>\n",
       "      <td>88.0</td>\n",
       "      <td>8</td>\n",
       "      <td>13</td>\n",
       "      <td>4</td>\n",
       "      <td>20.0</td>\n",
       "      <td>0.200000</td>\n",
       "      <td>5</td>\n",
       "      <td>3</td>\n",
       "    </tr>\n",
       "    <tr>\n",
       "      <th>2</th>\n",
       "      <td>2</td>\n",
       "      <td>5</td>\n",
       "      <td>6</td>\n",
       "      <td>How can I increase the speed of my internet co...</td>\n",
       "      <td>How can Internet speed be increased by hacking...</td>\n",
       "      <td>0</td>\n",
       "      <td>1</td>\n",
       "      <td>1</td>\n",
       "      <td>73.0</td>\n",
       "      <td>59.0</td>\n",
       "      <td>14</td>\n",
       "      <td>10</td>\n",
       "      <td>4</td>\n",
       "      <td>24.0</td>\n",
       "      <td>0.166667</td>\n",
       "      <td>2</td>\n",
       "      <td>0</td>\n",
       "    </tr>\n",
       "    <tr>\n",
       "      <th>3</th>\n",
       "      <td>3</td>\n",
       "      <td>7</td>\n",
       "      <td>8</td>\n",
       "      <td>Why am I mentally very lonely? How can I solve...</td>\n",
       "      <td>Find the remainder when [math]23^{24}[/math] i...</td>\n",
       "      <td>0</td>\n",
       "      <td>1</td>\n",
       "      <td>1</td>\n",
       "      <td>50.0</td>\n",
       "      <td>65.0</td>\n",
       "      <td>11</td>\n",
       "      <td>9</td>\n",
       "      <td>0</td>\n",
       "      <td>19.0</td>\n",
       "      <td>0.000000</td>\n",
       "      <td>2</td>\n",
       "      <td>0</td>\n",
       "    </tr>\n",
       "    <tr>\n",
       "      <th>4</th>\n",
       "      <td>4</td>\n",
       "      <td>9</td>\n",
       "      <td>10</td>\n",
       "      <td>Which one dissolve in water quikly sugar, salt...</td>\n",
       "      <td>Which fish would survive in salt water?</td>\n",
       "      <td>0</td>\n",
       "      <td>3</td>\n",
       "      <td>1</td>\n",
       "      <td>76.0</td>\n",
       "      <td>39.0</td>\n",
       "      <td>13</td>\n",
       "      <td>7</td>\n",
       "      <td>2</td>\n",
       "      <td>20.0</td>\n",
       "      <td>0.100000</td>\n",
       "      <td>4</td>\n",
       "      <td>2</td>\n",
       "    </tr>\n",
       "  </tbody>\n",
       "</table>\n",
       "</div>"
      ],
      "text/plain": [
       "   id  qid1  qid2                                          question1  \\\n",
       "0   0     1     2  What is the step by step guide to invest in sh...   \n",
       "1   1     3     4  What is the story of Kohinoor (Koh-i-Noor) Dia...   \n",
       "2   2     5     6  How can I increase the speed of my internet co...   \n",
       "3   3     7     8  Why am I mentally very lonely? How can I solve...   \n",
       "4   4     9    10  Which one dissolve in water quikly sugar, salt...   \n",
       "\n",
       "                                           question2  is_duplicate  freq_qid1  \\\n",
       "0  What is the step by step guide to invest in sh...             0          1   \n",
       "1  What would happen if the Indian government sto...             0          4   \n",
       "2  How can Internet speed be increased by hacking...             0          1   \n",
       "3  Find the remainder when [math]23^{24}[/math] i...             0          1   \n",
       "4            Which fish would survive in salt water?             0          3   \n",
       "\n",
       "   freq_qid2  q1len  q2len  q1_n_words  q2_n_words  word_Common  word_Total  \\\n",
       "0          1   66.0   57.0          14          12           10        23.0   \n",
       "1          1   51.0   88.0           8          13            4        20.0   \n",
       "2          1   73.0   59.0          14          10            4        24.0   \n",
       "3          1   50.0   65.0          11           9            0        19.0   \n",
       "4          1   76.0   39.0          13           7            2        20.0   \n",
       "\n",
       "   word_share  freq_q1+q2  freq_q1-q2  \n",
       "0    0.434783           2           0  \n",
       "1    0.200000           5           3  \n",
       "2    0.166667           2           0  \n",
       "3    0.000000           2           0  \n",
       "4    0.100000           4           2  "
      ]
     },
     "execution_count": 13,
     "metadata": {},
     "output_type": "execute_result"
    }
   ],
   "source": [
    "df.head()"
   ]
  },
  {
   "cell_type": "code",
   "execution_count": 14,
   "id": "53c19d02",
   "metadata": {},
   "outputs": [
    {
     "name": "stdout",
     "output_type": "stream",
     "text": [
      "Minimum length of the question1: 1\n",
      "Maximum length of question1: 125\n",
      "Minimum lenfth of q2: 2\n",
      "Maximum length of question2: 237\n"
     ]
    }
   ],
   "source": [
    "print('Minimum length of the question1:',min(df['q1_n_words']))\n",
    "print('Maximum length of question1:',max(df['q1_n_words']))\n",
    "print('Minimum lenfth of q2:',min('q2__n_words'))\n",
    "print('Maximum length of question2:',max(df['q2_n_words']))"
   ]
  },
  {
   "cell_type": "code",
   "execution_count": 15,
   "id": "4abe2f11",
   "metadata": {},
   "outputs": [
    {
     "name": "stdout",
     "output_type": "stream",
     "text": [
      "Number of Questions with minimum length (question1) 70\n",
      "Number of Questions with minimum length (question2) 27\n"
     ]
    }
   ],
   "source": [
    "print('Number of Questions with minimum length (question1)',df[df['q1_n_words']==1].shape[0])\n",
    "print('Number of Questions with minimum length (question2)',df[df['q2_n_words']==1].shape[0])"
   ]
  },
  {
   "cell_type": "code",
   "execution_count": 16,
   "id": "95445123",
   "metadata": {},
   "outputs": [
    {
     "name": "stderr",
     "output_type": "stream",
     "text": [
      "C:\\Python310\\lib\\site-packages\\seaborn\\distributions.py:2619: FutureWarning: `distplot` is a deprecated function and will be removed in a future version. Please adapt your code to use either `displot` (a figure-level function with similar flexibility) or `histplot` (an axes-level function for histograms).\n",
      "  warnings.warn(msg, FutureWarning)\n",
      "C:\\Python310\\lib\\site-packages\\seaborn\\distributions.py:2619: FutureWarning: `distplot` is a deprecated function and will be removed in a future version. Please adapt your code to use either `displot` (a figure-level function with similar flexibility) or `histplot` (an axes-level function for histograms).\n",
      "  warnings.warn(msg, FutureWarning)\n"
     ]
    },
    {
     "data": {
      "image/png": "[encoded data removed]",
      "text/plain": [
       "<Figure size 432x288 with 2 Axes>"
      ]
     },
     "metadata": {
      "needs_background": "light"
     },
     "output_type": "display_data"
    }
   ],
   "source": [
    "plt.subplot(1,2,1)\n",
    "sns.violinplot(x='is_duplicate',y='word_share',data=df[0:])\n",
    "plt.subplot(1,2,2)\n",
    "sns.distplot(df[df['is_duplicate']==0]['word_share'],label='0',color='red')\n",
    "sns.distplot(df[df['is_duplicate']==1]['word_share'],label='1',color='green')\n",
    "plt.show()"
   ]
  },
  {
   "cell_type": "code",
   "execution_count": null,
   "id": "94c989ef",
   "metadata": {},
   "outputs": [],
   "source": []
  },
  {
   "cell_type": "markdown",
   "id": "89638d63",
   "metadata": {},
   "source": [
    "## Pre Processing of Text\n",
    "###### Removing html tags\n",
    "###### removing stop words\n",
    "###### Remove Punctuations\n",
    "###### Perform Stemming\n",
    "###### Expanding contractions\n"
   ]
  },
  {
   "cell_type": "code",
   "execution_count": 17,
   "id": "34e4854e",
   "metadata": {},
   "outputs": [
    {
     "name": "stderr",
     "output_type": "stream",
     "text": [
      "[nltk_data] Downloading package stopwords to\n",
      "[nltk_data]     C:\\Users\\Admin\\AppData\\Roaming\\nltk_data...\n",
      "[nltk_data]   Package stopwords is already up-to-date!\n"
     ]
    },
    {
     "data": {
      "text/plain": [
       "True"
      ]
     },
     "execution_count": 17,
     "metadata": {},
     "output_type": "execute_result"
    }
   ],
   "source": [
    "import nltk\n",
    "nltk.download('stopwords')"
   ]
  },
  {
   "cell_type": "code",
   "execution_count": 18,
   "id": "20ddf6e7",
   "metadata": {},
   "outputs": [
    {
     "name": "stderr",
     "output_type": "stream",
     "text": [
      "C:\\Python310\\lib\\site-packages\\fuzzywuzzy\\fuzz.py:11: UserWarning: Using slow pure-python SequenceMatcher. Install python-Levenshtein to remove this warning\n",
      "  warnings.warn('Using slow pure-python SequenceMatcher. Install python-Levenshtein to remove this warning')\n"
     ]
    }
   ],
   "source": [
    "from nltk.corpus import stopwords\n",
    "from nltk.stem import PorterStemmer\n",
    "from bs4 import BeautifulSoup\n",
    "import distance\n",
    "from fuzzywuzzy import fuzz\n",
    "stop_words=stopwords.words('English')\n",
    "\n",
    "\n",
    "def preprocess(x):\n",
    "    x=str(x).lower()\n",
    "    \n",
    "    x = x.replace(\",000,000\", \"m\").replace(\",000\", \"k\").replace(\"′\", \"'\").replace(\"’\", \"'\")\\\n",
    "                           .replace(\"won't\", \"will not\").replace(\"cannot\", \"can not\").replace(\"can't\", \"can not\")\\\n",
    "                           .replace(\"n't\", \" not\").replace(\"what's\", \"what is\").replace(\"it's\", \"it is\")\\\n",
    "                           .replace(\"'ve\", \" have\").replace(\"i'm\", \"i am\").replace(\"'re\", \" are\")\\\n",
    "                           .replace(\"he's\", \"he is\").replace(\"she's\", \"she is\").replace(\"'s\", \" own\")\\\n",
    "                           .replace(\"%\", \" percent \").replace(\"₹\", \" rupee \").replace(\"$\", \" dollar \")\\\n",
    "                           .replace(\"€\", \" euro \").replace(\"'ll\", \" will\")\n",
    "    \n",
    " \n",
    "    x=re.sub(r'[0-9]+000',r'1k',x)\n",
    "    \n",
    "    porter=PorterStemmer()\n",
    "    pattern=re.compile('\\W')\n",
    "    \n",
    "    \n",
    "    if type(x)==type(''):\n",
    "        x=re.sub(pattern,' ',x)\n",
    "    if type(x)==type(''):\n",
    "        x=porter.stem(x)\n",
    "        example1=BeautifulSoup(x)\n",
    "        x=example1.get_text()\n",
    "    return x"
   ]
  },
  {
   "cell_type": "markdown",
   "id": "41336af0",
   "metadata": {},
   "source": [
    "Definition:\n",
    "\n",
    "Token: You get a token by splitting sentence a space\n",
    "Stop_Word : stop words as per NLTK.\n",
    "Word : A token that is not a stop_word\n",
    "Features:\n",
    "\n",
    "cwc_min : Ratio of common_word_count to min lenghth of word count of Q1 and Q2\n",
    "cwc_min = common_word_count / (min(len(q1_words), len(q2_words))\n",
    "\n",
    "\n",
    "\n",
    "cwc_max : Ratio of common_word_count to max lenghth of word count of Q1 and Q2\n",
    "cwc_max = common_word_count / (max(len(q1_words), len(q2_words))\n",
    "\n",
    "\n",
    "\n",
    "csc_min : Ratio of common_stop_count to min lenghth of stop count of Q1 and Q2\n",
    "csc_min = common_stop_count / (min(len(q1_stops), len(q2_stops))\n",
    "\n",
    "\n",
    "\n",
    "csc_max : Ratio of common_stop_count to max lenghth of stop count of Q1 and Q2\n",
    "csc_max = common_stop_count / (max(len(q1_stops), len(q2_stops))\n",
    "\n",
    "\n",
    "\n",
    "ctc_min : Ratio of common_token_count to min lenghth of token count of Q1 and Q2\n",
    "ctc_min = common_token_count / (min(len(q1_tokens), len(q2_tokens))\n",
    "\n",
    "\n",
    "\n",
    "ctc_max : Ratio of common_token_count to max lenghth of token count of Q1 and Q2\n",
    "ctc_max = common_token_count / (max(len(q1_tokens), len(q2_tokens))\n",
    "\n",
    "\n",
    "\n",
    "last_word_eq : Check if First word of both questions is equal or not\n",
    "last_word_eq = int(q1_tokens[-1] == q2_tokens[-1])\n",
    "\n",
    "\n",
    "\n",
    "first_word_eq : Check if First word of both questions is equal or not\n",
    "first_word_eq = int(q1_tokens[0] == q2_tokens[0])\n",
    "\n",
    "\n",
    "\n",
    "abs_len_diff : Abs. length difference\n",
    "abs_len_diff = abs(len(q1_tokens) - len(q2_tokens))\n",
    "\n",
    "\n",
    "\n",
    "mean_len : Average Token Length of both Questions\n",
    "mean_len = (len(q1_tokens) + len(q2_tokens))/2\n",
    "\n",
    "\n",
    "\n",
    "fuzz_ratio : https://github.com/seatgeek/fuzzywuzzy#usage http://chairnerd.seatgeek.com/fuzzywuzzy-fuzzy-string-matching-in-python/\n",
    "\n",
    "\n",
    "\n",
    "fuzz_partial_ratio : https://github.com/seatgeek/fuzzywuzzy#usage http://chairnerd.seatgeek.com/fuzzywuzzy-fuzzy-string-matching-in-python/\n",
    "\n",
    "\n",
    "\n",
    "token_sort_ratio : https://github.com/seatgeek/fuzzywuzzy#usage http://chairnerd.seatgeek.com/fuzzywuzzy-fuzzy-string-matching-in-python/\n",
    "\n",
    "token_set_ratio : https://github.com/seatgeek/fuzzywuzzy#usage http://chairnerd.seatgeek.com/fuzzywuzzy-fuzzy-string-matching-in-python/\n",
    "\n",
    "longest_substr_ratio : Ratio of length longest common substring to min lenghth of token count of Q1 and Q2\n",
    "longest_substr_ratio = len(longest common substring) / (min(len(q1_tokens), len(q2_tokens))"
   ]
  },
  {
   "cell_type": "code",
   "execution_count": 26,
   "id": "0348fa7a",
   "metadata": {},
   "outputs": [
    {
     "name": "stdout",
     "output_type": "stream",
     "text": [
      "token features....\n",
      "fuzzy features.....\n",
      "   id  qid1  qid2                                          question1  \\\n",
      "0   0     1     2  what is the step by step guide to invest in sh...   \n",
      "1   1     3     4  what is the story of kohinoor  koh i noor  dia...   \n",
      "2   2     5     6  how can i increase the speed of my internet co...   \n",
      "3   3     7     8  why am i mentally very lonely  how can i solve...   \n",
      "4   4     9    10  which one dissolve in water quikly sugar  salt...   \n",
      "\n",
      "                                           question2  is_duplicate  freq_qid1  \\\n",
      "0  what is the step by step guide to invest in sh...             0          1   \n",
      "1  what would happen if the indian government sto...             0          4   \n",
      "2  how can internet speed be increased by hacking...             0          1   \n",
      "3  find the remainder when  math 23  24   math  i...             0          1   \n",
      "4            which fish would survive in salt water              0          3   \n",
      "\n",
      "   freq_qid2  q1len  q2len  ...   ctc_max  last_word_eq  first_word_eq  \\\n",
      "0          1   66.0   57.0  ...  0.857143           1.0            1.0   \n",
      "1          1   51.0   88.0  ...  1.000000           1.0            1.0   \n",
      "2          1   73.0   59.0  ...  1.000000           1.0            1.0   \n",
      "3          1   50.0   65.0  ...  0.909091           1.0            1.0   \n",
      "4          1   76.0   39.0  ...  1.000000           1.0            1.0   \n",
      "\n",
      "   abs_len_diff  mean_len  token_set_ratio  token_sort_ratio  fuzz_ratio  \\\n",
      "0           0.0      14.0              100                93          93   \n",
      "1           0.0      10.0               86                63          66   \n",
      "2           0.0      14.0               63                63          43   \n",
      "3           0.0      11.0               28                24           9   \n",
      "4           0.0      13.0               67                47          35   \n",
      "\n",
      "   fuzz_partial_ratio  longest_substr_ratio  \n",
      "0                 100              1.000000  \n",
      "1                  75              0.607843  \n",
      "2                  47              0.169492  \n",
      "3                  14              0.040000  \n",
      "4                  56              0.179487  \n",
      "\n",
      "[5 rows x 32 columns]\n"
     ]
    }
   ],
   "source": [
    "def get_token_features(q1,q2):\n",
    "    token_features=[0.0]*10\n",
    "    q1_tokens=q1.split()\n",
    "    q2_tokens=q1.split()\n",
    "    if len(q1_tokens)==0 or len(q2_tokens)==0:\n",
    "        return token_features\n",
    "    q1_words=set([word for word in q1_tokens if word not in stop_words])\n",
    "    q2_words=set([word for word in q2_tokens if word not in stop_words])\n",
    "    \n",
    "    q1_stops=set([word for word in q1_tokens if word in stop_words])\n",
    "    q2_stops=set([word for word in q2_tokens if word in stop_words])\n",
    "    common_word_count=len(q1_words.intersection(q2_words))\n",
    "    common_stop_count=len(q1_words.intersection(q2_words))\n",
    "    \n",
    "    common_token_count=len(set(q1_tokens).intersection(set(q2_tokens)))\n",
    "    \n",
    "    if len(q1_words)==0 and len(q2_words)==0:\n",
    "         token_features[0]=0\n",
    "    \n",
    "    elif len(q1_words)==0 :\n",
    "         token_features[0]=common_stop_count/len(q2_words)\n",
    "    elif len(q2_words)==0:\n",
    "         token_features[0]=common_stop_count/(len(q1_words))\n",
    "    else:\n",
    "        \n",
    "        token_features[0]=common_stop_count/(min(len(q1_words),len(q2_words)))\n",
    "        \n",
    "    if len(q1_words)==0 and len(q2_words)==0:\n",
    "         token_features[1]=0\n",
    "\n",
    "    else:\n",
    "        \n",
    "        token_features[1]=common_stop_count/(max(len(q1_words),len(q2_words)))\n",
    "        \n",
    "        \n",
    "    \n",
    "    if len(q1_stops)==0 and len(q2_stops)==0:\n",
    "         token_features[2]=0\n",
    "    \n",
    "    elif len(q1_stops)==0 :\n",
    "         token_features[2]=common_stop_count/len(q2_stops)\n",
    "    elif len(q2_stops)==0:\n",
    "         token_features[2]=common_stop_count/(len(q1_stops))\n",
    "    else:\n",
    "        \n",
    "        token_features[2]=common_stop_count/(min(len(q1_stops),len(q2_stops)))\n",
    "        \n",
    "    if len(q1_stops)==0 and len(q2_stops)==0:\n",
    "         token_features[3]=0\n",
    "    \n",
    "    \n",
    "    else:\n",
    "        \n",
    "        token_features[3]=common_stop_count/(max(len(q1_stops),len(q2_stops)))\n",
    "  \n",
    "    token_features[4]=common_token_count/(min(len(q1_tokens),len(q2_tokens)))\n",
    "    token_features[5]=common_token_count/(max(len(q1_tokens),len(q2_tokens)))\n",
    "    token_features[6]=int(q1_tokens[-1]==q2_tokens[-1])\n",
    "    token_features[7]=int(q1_tokens[0]==q2_tokens[0])\n",
    "    \n",
    "    token_features[8]=abs(len(q1_tokens)-len(q2_tokens))\n",
    "    token_features[9]=(len(q1_tokens)+len(q2_tokens))/2\n",
    "    \n",
    "    \n",
    "    return token_features\n",
    "\n",
    "def get_longest_substr_ratio(a,b):\n",
    "    strs=list(distance.lcsubstrings(a,b))\n",
    "    if len(strs)==0:\n",
    "        return 0\n",
    "    else:\n",
    "        return len(strs[0])/(min(len(a),len(b)))\n",
    "    \n",
    "def extract_features(df):\n",
    "    df['question1']=df['question1'].fillna('').apply(preprocess)\n",
    "    df['question2']=df['question2'].fillna('').apply(preprocess)\n",
    "    print('token features....')\n",
    "    token_features = df.apply(lambda x: get_token_features(x[\"question1\"], x[\"question2\"]), axis=1)\n",
    "    \n",
    "    df[\"cwc_min\"]       = list(map(lambda x: x[0], token_features))\n",
    "    df[\"cwc_max\"]       = list(map(lambda x: x[1], token_features))\n",
    "    df[\"csc_min\"]       = list(map(lambda x: x[2], token_features))\n",
    "    df[\"csc_max\"]       = list(map(lambda x: x[3], token_features))\n",
    "    df[\"ctc_min\"]       = list(map(lambda x: x[4], token_features))\n",
    "    df[\"ctc_max\"]       = list(map(lambda x: x[5], token_features))\n",
    "    df[\"last_word_eq\"]  = list(map(lambda x: x[6], token_features))\n",
    "    df[\"first_word_eq\"] = list(map(lambda x: x[7], token_features))\n",
    "    df[\"abs_len_diff\"]  = list(map(lambda x: x[8], token_features))\n",
    "    df[\"mean_len\"]      = list(map(lambda x: x[9], token_features))\n",
    "    print(\"fuzzy features.....\")\n",
    "    \n",
    "    df['token_set_ratio']=df.apply(lambda x:fuzz.token_set_ratio(x['question1'],x['question2']),axis=1)\n",
    "    df['token_sort_ratio']=df.apply(lambda x:fuzz.token_sort_ratio(x['question1'],x['question2']),axis=1)\n",
    "    df['fuzz_ratio']=df.apply(lambda x:fuzz.QRatio(x['question1'],x['question2']),axis=1)\n",
    "    df['fuzz_partial_ratio']=df.apply(lambda x:fuzz.partial_ratio(x['question1'],x['question2']),axis=1)\n",
    "    \n",
    "    df['longest_substr_ratio']=df.apply(lambda x:get_longest_substr_ratio(x['question1'],x['question2']),axis=1)\n",
    "    \n",
    "    return df\n",
    "\n",
    "\n",
    "\n",
    "df=extract_features(df)\n",
    "df.to_csv('nlp_features.csv')\n",
    "\n",
    "print(df.head())\n",
    "    "
   ]
  },
  {
   "cell_type": "markdown",
   "id": "10578245",
   "metadata": {},
   "source": [
    "### "
   ]
  },
  {
   "cell_type": "code",
   "execution_count": 27,
   "id": "68160687",
   "metadata": {},
   "outputs": [
    {
     "data": {
      "text/html": [
       "<div>\n",
       "<style scoped>\n",
       "    .dataframe tbody tr th:only-of-type {\n",
       "        vertical-align: middle;\n",
       "    }\n",
       "\n",
       "    .dataframe tbody tr th {\n",
       "        vertical-align: top;\n",
       "    }\n",
       "\n",
       "    .dataframe thead th {\n",
       "        text-align: right;\n",
       "    }\n",
       "</style>\n",
       "<table border=\"1\" class=\"dataframe\">\n",
       "  <thead>\n",
       "    <tr style=\"text-align: right;\">\n",
       "      <th></th>\n",
       "      <th>id</th>\n",
       "      <th>qid1</th>\n",
       "      <th>qid2</th>\n",
       "      <th>question1</th>\n",
       "      <th>question2</th>\n",
       "      <th>is_duplicate</th>\n",
       "      <th>freq_qid1</th>\n",
       "      <th>freq_qid2</th>\n",
       "      <th>q1len</th>\n",
       "      <th>q2len</th>\n",
       "      <th>...</th>\n",
       "      <th>ctc_max</th>\n",
       "      <th>last_word_eq</th>\n",
       "      <th>first_word_eq</th>\n",
       "      <th>abs_len_diff</th>\n",
       "      <th>mean_len</th>\n",
       "      <th>token_set_ratio</th>\n",
       "      <th>token_sort_ratio</th>\n",
       "      <th>fuzz_ratio</th>\n",
       "      <th>fuzz_partial_ratio</th>\n",
       "      <th>longest_substr_ratio</th>\n",
       "    </tr>\n",
       "  </thead>\n",
       "  <tbody>\n",
       "    <tr>\n",
       "      <th>0</th>\n",
       "      <td>0</td>\n",
       "      <td>1</td>\n",
       "      <td>2</td>\n",
       "      <td>what is the step by step guide to invest in sh...</td>\n",
       "      <td>what is the step by step guide to invest in sh...</td>\n",
       "      <td>0</td>\n",
       "      <td>1</td>\n",
       "      <td>1</td>\n",
       "      <td>66.0</td>\n",
       "      <td>57.0</td>\n",
       "      <td>...</td>\n",
       "      <td>0.857143</td>\n",
       "      <td>1.0</td>\n",
       "      <td>1.0</td>\n",
       "      <td>0.0</td>\n",
       "      <td>14.0</td>\n",
       "      <td>100</td>\n",
       "      <td>93</td>\n",
       "      <td>93</td>\n",
       "      <td>100</td>\n",
       "      <td>1.000000</td>\n",
       "    </tr>\n",
       "    <tr>\n",
       "      <th>1</th>\n",
       "      <td>1</td>\n",
       "      <td>3</td>\n",
       "      <td>4</td>\n",
       "      <td>what is the story of kohinoor  koh i noor  dia...</td>\n",
       "      <td>what would happen if the indian government sto...</td>\n",
       "      <td>0</td>\n",
       "      <td>4</td>\n",
       "      <td>1</td>\n",
       "      <td>51.0</td>\n",
       "      <td>88.0</td>\n",
       "      <td>...</td>\n",
       "      <td>1.000000</td>\n",
       "      <td>1.0</td>\n",
       "      <td>1.0</td>\n",
       "      <td>0.0</td>\n",
       "      <td>10.0</td>\n",
       "      <td>86</td>\n",
       "      <td>63</td>\n",
       "      <td>66</td>\n",
       "      <td>75</td>\n",
       "      <td>0.607843</td>\n",
       "    </tr>\n",
       "    <tr>\n",
       "      <th>2</th>\n",
       "      <td>2</td>\n",
       "      <td>5</td>\n",
       "      <td>6</td>\n",
       "      <td>how can i increase the speed of my internet co...</td>\n",
       "      <td>how can internet speed be increased by hacking...</td>\n",
       "      <td>0</td>\n",
       "      <td>1</td>\n",
       "      <td>1</td>\n",
       "      <td>73.0</td>\n",
       "      <td>59.0</td>\n",
       "      <td>...</td>\n",
       "      <td>1.000000</td>\n",
       "      <td>1.0</td>\n",
       "      <td>1.0</td>\n",
       "      <td>0.0</td>\n",
       "      <td>14.0</td>\n",
       "      <td>63</td>\n",
       "      <td>63</td>\n",
       "      <td>43</td>\n",
       "      <td>47</td>\n",
       "      <td>0.169492</td>\n",
       "    </tr>\n",
       "    <tr>\n",
       "      <th>3</th>\n",
       "      <td>3</td>\n",
       "      <td>7</td>\n",
       "      <td>8</td>\n",
       "      <td>why am i mentally very lonely  how can i solve...</td>\n",
       "      <td>find the remainder when  math 23  24   math  i...</td>\n",
       "      <td>0</td>\n",
       "      <td>1</td>\n",
       "      <td>1</td>\n",
       "      <td>50.0</td>\n",
       "      <td>65.0</td>\n",
       "      <td>...</td>\n",
       "      <td>0.909091</td>\n",
       "      <td>1.0</td>\n",
       "      <td>1.0</td>\n",
       "      <td>0.0</td>\n",
       "      <td>11.0</td>\n",
       "      <td>28</td>\n",
       "      <td>24</td>\n",
       "      <td>9</td>\n",
       "      <td>14</td>\n",
       "      <td>0.040000</td>\n",
       "    </tr>\n",
       "    <tr>\n",
       "      <th>4</th>\n",
       "      <td>4</td>\n",
       "      <td>9</td>\n",
       "      <td>10</td>\n",
       "      <td>which one dissolve in water quikly sugar  salt...</td>\n",
       "      <td>which fish would survive in salt water</td>\n",
       "      <td>0</td>\n",
       "      <td>3</td>\n",
       "      <td>1</td>\n",
       "      <td>76.0</td>\n",
       "      <td>39.0</td>\n",
       "      <td>...</td>\n",
       "      <td>1.000000</td>\n",
       "      <td>1.0</td>\n",
       "      <td>1.0</td>\n",
       "      <td>0.0</td>\n",
       "      <td>13.0</td>\n",
       "      <td>67</td>\n",
       "      <td>47</td>\n",
       "      <td>35</td>\n",
       "      <td>56</td>\n",
       "      <td>0.179487</td>\n",
       "    </tr>\n",
       "  </tbody>\n",
       "</table>\n",
       "<p>5 rows × 32 columns</p>\n",
       "</div>"
      ],
      "text/plain": [
       "   id  qid1  qid2                                          question1  \\\n",
       "0   0     1     2  what is the step by step guide to invest in sh...   \n",
       "1   1     3     4  what is the story of kohinoor  koh i noor  dia...   \n",
       "2   2     5     6  how can i increase the speed of my internet co...   \n",
       "3   3     7     8  why am i mentally very lonely  how can i solve...   \n",
       "4   4     9    10  which one dissolve in water quikly sugar  salt...   \n",
       "\n",
       "                                           question2  is_duplicate  freq_qid1  \\\n",
       "0  what is the step by step guide to invest in sh...             0          1   \n",
       "1  what would happen if the indian government sto...             0          4   \n",
       "2  how can internet speed be increased by hacking...             0          1   \n",
       "3  find the remainder when  math 23  24   math  i...             0          1   \n",
       "4            which fish would survive in salt water              0          3   \n",
       "\n",
       "   freq_qid2  q1len  q2len  ...   ctc_max  last_word_eq  first_word_eq  \\\n",
       "0          1   66.0   57.0  ...  0.857143           1.0            1.0   \n",
       "1          1   51.0   88.0  ...  1.000000           1.0            1.0   \n",
       "2          1   73.0   59.0  ...  1.000000           1.0            1.0   \n",
       "3          1   50.0   65.0  ...  0.909091           1.0            1.0   \n",
       "4          1   76.0   39.0  ...  1.000000           1.0            1.0   \n",
       "\n",
       "   abs_len_diff  mean_len  token_set_ratio  token_sort_ratio  fuzz_ratio  \\\n",
       "0           0.0      14.0              100                93          93   \n",
       "1           0.0      10.0               86                63          66   \n",
       "2           0.0      14.0               63                63          43   \n",
       "3           0.0      11.0               28                24           9   \n",
       "4           0.0      13.0               67                47          35   \n",
       "\n",
       "   fuzz_partial_ratio  longest_substr_ratio  \n",
       "0                 100              1.000000  \n",
       "1                  75              0.607843  \n",
       "2                  47              0.169492  \n",
       "3                  14              0.040000  \n",
       "4                  56              0.179487  \n",
       "\n",
       "[5 rows x 32 columns]"
      ]
     },
     "execution_count": 27,
     "metadata": {},
     "output_type": "execute_result"
    }
   ],
   "source": [
    "df.head()"
   ]
  },
  {
   "cell_type": "code",
   "execution_count": null,
   "id": "deeb2e08",
   "metadata": {},
   "outputs": [],
   "source": []
  }
 ],
 "metadata": {
  "kernelspec": {
   "display_name": "Python 3 (ipykernel)",
   "language": "python",
   "name": "python3"
  },
  "language_info": {
   "codemirror_mode": {
    "name": "ipython",
    "version": 3
   },
   "file_extension": ".py",
   "mimetype": "text/x-python",
   "name": "python",
   "nbconvert_exporter": "python",
   "pygments_lexer": "ipython3",
   "version": "3.10.4"
  }
 },
 "nbformat": 4,
 "nbformat_minor": 5
}
